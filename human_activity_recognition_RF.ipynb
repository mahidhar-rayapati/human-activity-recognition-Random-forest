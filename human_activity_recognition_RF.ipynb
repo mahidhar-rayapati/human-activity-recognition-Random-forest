{
  "nbformat": 4,
  "nbformat_minor": 0,
  "metadata": {
    "colab": {
      "provenance": [],
      "authorship_tag": "ABX9TyMDHuqK/W/S28rWDHcASSJd",
      "include_colab_link": true
    },
    "kernelspec": {
      "name": "python3",
      "display_name": "Python 3"
    },
    "language_info": {
      "name": "python"
    }
  },
  "cells": [
    {
      "cell_type": "markdown",
      "metadata": {
        "id": "view-in-github",
        "colab_type": "text"
      },
      "source": [
        "<a href=\"https://colab.research.google.com/github/mahidhar-rayapati/human-activity-recognition-Random-forest/blob/main/human_activity_recognition_RF.ipynb\" target=\"_parent\"><img src=\"https://colab.research.google.com/assets/colab-badge.svg\" alt=\"Open In Colab\"/></a>"
      ]
    },
    {
      "cell_type": "markdown",
      "source": [
        "# **1. Import libraries**"
      ],
      "metadata": {
        "id": "ILpFq6va_97L"
      }
    },
    {
      "cell_type": "code",
      "execution_count": 1,
      "metadata": {
        "id": "1houRPQ-ZQFk"
      },
      "outputs": [],
      "source": [
        "import numpy as np\n",
        "import pandas as pd\n",
        "import seaborn as sns\n",
        "from sklearn.ensemble import RandomForestClassifier\n",
        "from matplotlib import pyplot as plt\n",
        "from sklearn.model_selection import train_test_split\n",
        "from sklearn.metrics import accuracy_score"
      ]
    },
    {
      "cell_type": "markdown",
      "source": [
        "# **2. Load the dataset**"
      ],
      "metadata": {
        "id": "bE4JP4SW_oaD"
      }
    },
    {
      "cell_type": "code",
      "source": [
        "data = pd.read_csv(\"train.csv\")"
      ],
      "metadata": {
        "id": "VjhuDOjw_nIl"
      },
      "execution_count": 2,
      "outputs": []
    },
    {
      "cell_type": "markdown",
      "source": [
        "# **3. Visualize**"
      ],
      "metadata": {
        "id": "RDmWKlrXAQRg"
      }
    },
    {
      "cell_type": "code",
      "source": [
        "plt.figure(figsize=(12,6))\n",
        "axis=sns.countplot(x=\"Activity\",data=data)\n",
        "plt.xticks(x=data['Activity'])\n",
        "plt.show()"
      ],
      "metadata": {
        "colab": {
          "base_uri": "https://localhost:8080/",
          "height": 389
        },
        "id": "mHUIF3zIBXQu",
        "outputId": "d92c9b96-632e-4aac-ca26-851c86201d47"
      },
      "execution_count": 3,
      "outputs": [
        {
          "output_type": "display_data",
          "data": {
            "text/plain": [
              "<Figure size 864x432 with 1 Axes>"
            ],
            "image/png": "[encoded data removed]"
          },
          "metadata": {
            "needs_background": "light"
          }
        }
      ]
    },
    {
      "cell_type": "markdown",
      "source": [
        "# **4. Split the data into features and target**"
      ],
      "metadata": {
        "id": "7VHjSo6MAjk8"
      }
    },
    {
      "cell_type": "code",
      "source": [
        "X = data.drop(['Activity','subject'], axis=1)\n",
        "y = data.Activity.values.astype(object)"
      ],
      "metadata": {
        "id": "6MOXYiq5BbwZ"
      },
      "execution_count": 4,
      "outputs": []
    },
    {
      "cell_type": "markdown",
      "source": [
        "# **5. Split the data into training and test sets**"
      ],
      "metadata": {
        "id": "EZFJQPK4A2jo"
      }
    },
    {
      "cell_type": "code",
      "source": [
        "X_train, X_test, y_train, y_test = train_test_split(X, y, test_size=0.2, random_state=42)\n",
        "print(\"Shape of the dataset:\",data.shape)\n",
        "print(\"Shape of train dataset:\",X_train.shape)\n",
        "print(\"Shape of test dataset:\",X_test.shape)"
      ],
      "metadata": {
        "colab": {
          "base_uri": "https://localhost:8080/"
        },
        "id": "unIAqejcBebq",
        "outputId": "b8e86f43-bc80-44b5-e29d-0ec83b6eb5a1"
      },
      "execution_count": 5,
      "outputs": [
        {
          "output_type": "stream",
          "name": "stdout",
          "text": [
            "Shape of the dataset: (7352, 563)\n",
            "Shape of train dataset: (5881, 561)\n",
            "Shape of test dataset: (1471, 561)\n"
          ]
        }
      ]
    },
    {
      "cell_type": "markdown",
      "source": [
        "# **6. Train the random forest classifier**"
      ],
      "metadata": {
        "id": "nhe0Oz1DA_G0"
      }
    },
    {
      "cell_type": "code",
      "source": [
        "clf = RandomForestClassifier(n_estimators=100, random_state=42)\n",
        "clf.fit(X_train, y_train)"
      ],
      "metadata": {
        "colab": {
          "base_uri": "https://localhost:8080/"
        },
        "id": "1PiDaoGABhYb",
        "outputId": "128cb9b3-4d09-4904-cc38-872a985e2e46"
      },
      "execution_count": 6,
      "outputs": [
        {
          "output_type": "execute_result",
          "data": {
            "text/plain": [
              "RandomForestClassifier(random_state=42)"
            ]
          },
          "metadata": {},
          "execution_count": 6
        }
      ]
    },
    {
      "cell_type": "markdown",
      "source": [
        "# **7. Prediction on the test data**"
      ],
      "metadata": {
        "id": "wJmMtGl1BJQO"
      }
    },
    {
      "cell_type": "code",
      "source": [
        "y_pred = clf.predict(X_test)"
      ],
      "metadata": {
        "id": "_rD-BlaeBky6"
      },
      "execution_count": 7,
      "outputs": []
    },
    {
      "cell_type": "markdown",
      "source": [
        "# **8. Accuracy**"
      ],
      "metadata": {
        "id": "lniwhr7QBSwv"
      }
    },
    {
      "cell_type": "code",
      "source": [
        "rand = clf.score(X_train,y_train)\n",
        "accuracy = accuracy_score(y_test, y_pred)\n",
        "print(\"Accuracy of train dataset:\",rand*100,\"%\")\n",
        "print(\"Accuracy of test dataset:\",round(accuracy*100,4),\"%\")"
      ],
      "metadata": {
        "colab": {
          "base_uri": "https://localhost:8080/"
        },
        "id": "R4d-sF9NBrCJ",
        "outputId": "332a190f-de1e-4c4c-cc02-3c9cfd3ada4e"
      },
      "execution_count": 8,
      "outputs": [
        {
          "output_type": "stream",
          "name": "stdout",
          "text": [
            "Accuracy of train dataset: 100.0 %\n",
            "Accuracy of test dataset: 97.6886 %\n"
          ]
        }
      ]
    }
  ]
}